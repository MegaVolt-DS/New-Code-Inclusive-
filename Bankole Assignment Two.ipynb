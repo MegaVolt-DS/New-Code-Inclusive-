{
 "cells": [
  {
   "cell_type": "markdown",
   "metadata": {},
   "source": [
    "## Assignment Two"
   ]
  },
  {
   "cell_type": "markdown",
   "metadata": {},
   "source": [
    "## Question one"
   ]
  },
  {
   "cell_type": "code",
   "execution_count": 17,
   "metadata": {},
   "outputs": [
    {
     "name": "stdout",
     "output_type": "stream",
     "text": [
      "Input comma separated sequence of words: without,hello,bag,world\n",
      "['bag', 'hello', 'without', 'world']\n"
     ]
    }
   ],
   "source": [
    "question = input(\"Input comma separated sequence of words: \" )\n",
    "sort_question = sorted(set(question.split(',')))\n",
    "\n",
    "print(sort_question)"
   ]
  },
  {
   "cell_type": "markdown",
   "metadata": {},
   "source": [
    "## Question two"
   ]
  },
  {
   "cell_type": "code",
   "execution_count": 87,
   "metadata": {},
   "outputs": [
    {
     "name": "stdout",
     "output_type": "stream",
     "text": [
      "Enter a value: 4\n",
      " The result of the computation a + aa + aaa + aaaa for the value 4 is: 340\n"
     ]
    }
   ],
   "source": [
    "value = int(input(\"Enter a value: \"))\n",
    "x = value\n",
    "a = x\n",
    "aa = x*x\n",
    "aaa = x**3\n",
    "aaaa = x**4\n",
    "result = a + aa + aaa + aaaa\n",
    "print(\" The result of the computation a + aa + aaa + aaaa for the value {} is: {}\".format(value,result))"
   ]
  },
  {
   "cell_type": "markdown",
   "metadata": {},
   "source": [
    "## question three"
   ]
  },
  {
   "cell_type": "code",
   "execution_count": 68,
   "metadata": {},
   "outputs": [],
   "source": [
    "import statistics as sts\n",
    "\n",
    "def statistical_calculator():\n",
    "    menu = input(\"Menu \\n1. mean \\n2. mode \\n3. median \\n4. variance \\nPlease make a choice? \")\n",
    "    sample_input = input(\"\\nEnter the sample numbers seperated by a comma: \").lower()\n",
    "    sample_extracted = sample_input.split(',')\n",
    "    sample = list(map(int,sample_extracted))\n",
    "    if menu == \"mean\":\n",
    "        result = sts.mean(sample)\n",
    "        print(\"\\nThe Mean of {} is {}\".format(sample,result))\n",
    "    elif menu == \"median\":\n",
    "        result = sts.median(sample)\n",
    "        print(\"\\nThe Median of {} is {}\".format(sample,result))\n",
    "    elif menu == \"mode\":\n",
    "        result = sts.mode(sample)\n",
    "        print(\"\\nThe Mode of {} is {}\".format(sample,result))\n",
    "    elif menu ==  \"variance\":\n",
    "        result = sts.variance(sample)\n",
    "        print(\"\\nThe Variance of {} is {}\".format(sample,result))\n",
    "    else:\n",
    "        print(\"\\nCaution!! You have entered an unrecognize option, please check the Menu and enter a new option\")\n",
    "        print(\"\\nRestarting....\")\n",
    "        return \n",
    "   "
   ]
  },
  {
   "cell_type": "markdown",
   "metadata": {},
   "source": [
    "## Question four"
   ]
  },
  {
   "cell_type": "code",
   "execution_count": 77,
   "metadata": {},
   "outputs": [
    {
     "name": "stdout",
     "output_type": "stream",
     "text": [
      "Input a number: 20\n",
      "\n",
      "dict_keys([1, 2, 3, 4, 5, 6, 7, 8, 9, 10, 11, 12, 13, 14, 15, 16, 17, 18, 19, 20])\n"
     ]
    }
   ],
   "source": [
    "sample_number=int(input(\"Input a number: \"))\n",
    "generated_dict = dict()\n",
    "\n",
    "for each_num in range(1,sample_number+1):\n",
    "    generated_dict[each_num]= each_num * each_num\n",
    "print('')\n",
    "print(generated_dict.keys()) "
   ]
  }
 ],
 "metadata": {
  "kernelspec": {
   "display_name": "Python 3",
   "language": "python",
   "name": "python3"
  },
  "language_info": {
   "codemirror_mode": {
    "name": "ipython",
    "version": 3
   },
   "file_extension": ".py",
   "mimetype": "text/x-python",
   "name": "python",
   "nbconvert_exporter": "python",
   "pygments_lexer": "ipython3",
   "version": "3.7.4"
  }
 },
 "nbformat": 4,
 "nbformat_minor": 2
}
