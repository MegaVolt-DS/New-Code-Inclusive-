{
 "cells": [
  {
   "cell_type": "code",
   "execution_count": 27,
   "metadata": {},
   "outputs": [],
   "source": [
    "import numpy as np\n",
    "import random\n",
    "import matplotlib.pyplot as plt"
   ]
  },
  {
   "cell_type": "markdown",
   "metadata": {},
   "source": [
    "## Question one "
   ]
  },
  {
   "cell_type": "code",
   "execution_count": 29,
   "metadata": {},
   "outputs": [
    {
     "name": "stdout",
     "output_type": "stream",
     "text": [
      "{'Data': [23, 24, 27, 27, 27, 38, 43, 43, 44, 45, 49, 50, 52, 56, 59, 61, 62, 63, 65, 66], 'Mean': 46.2, 'Median': 47.0, 'Variance': 202.16, 'Standard Deviation': 14.218298069740976, 'Maximum': 66, 'Minimum': 23}\n"
     ]
    }
   ],
   "source": [
    "dict_ = {}\n",
    "def stat_func():\n",
    "    \"\"\" This Function will generate 20 random integers  between 20 and 70 and \n",
    "    Compute the mean , variance , standard deviation ,median, \n",
    "    maximum and minimum value of this data set. \n",
    "    The result would be returned from the data set as a dictionary. \"\"\"\n",
    "    \n",
    "    cvt = list(sorted(np.random.randint(low = 20, high = 70, size = 20)))\n",
    "    mean_ = np.mean(cvt)\n",
    "    median_ = np.median(cvt)\n",
    "    var_ = np.var(cvt)\n",
    "    std_ = np.std(cvt)\n",
    "    max_ = np.max(cvt)\n",
    "    min_ = np.min(cvt)\n",
    "    dict_[\"Data\"] = cvt\n",
    "    dict_[\"Mean\"] = mean_\n",
    "    dict_[\"Median\"] = median_\n",
    "    dict_[\"Variance\"] = var_\n",
    "    dict_[\"Standard Deviation\"] = std_\n",
    "    dict_[\"Maximum\"] = max_\n",
    "    dict_[\"Minimum\"] = min_\n",
    "    return \n",
    "stat_func()\n",
    "print(dict_)"
   ]
  },
  {
   "cell_type": "markdown",
   "metadata": {},
   "source": [
    "## Question Two"
   ]
  },
  {
   "cell_type": "code",
   "execution_count": 33,
   "metadata": {},
   "outputs": [
    {
     "name": "stdout",
     "output_type": "stream",
     "text": [
      "The Z_Score is  [-1.6317002137811176, -1.56136830801469, -1.3503725907154076, -1.3503725907154076, -1.3503725907154076, -0.5767216272847054, -0.2250620984525681, -0.2250620984525681, -0.15473019268614063, -0.08439828691971317, 0.19692933614599673, 0.2672612419124242, 0.40792505344527913, 0.6892526765109891, 0.9002483938102714, 1.0409122053431263, 1.111244111109554, 1.1815760168759815, 1.3222398284088364, 1.3925717341752637]\n"
     ]
    }
   ],
   "source": [
    "New_Data = []\n",
    "z_scores = []\n",
    "def ght():\n",
    "    \n",
    "    \n",
    "    for i in dict_[\"Data\"]:\n",
    "       # if len(New_Data) < len(dict_[\"Data\"]): PS: Never Include an IF statement\n",
    "        j = i - np.mean(dict_[\"Data\"])\n",
    "        New_Data.append(j)\n",
    "        \n",
    "        k = (j/np.std(dict_[\"Data\"]))\n",
    "        z_scores.append(k)\n",
    "        \n",
    "    \n",
    "    return \n",
    "ght()     \n",
    "print(\"The Z_Score is \",z_scores)"
   ]
  },
  {
   "cell_type": "markdown",
   "metadata": {},
   "source": [
    "## Question Three"
   ]
  },
  {
   "cell_type": "code",
   "execution_count": 34,
   "metadata": {},
   "outputs": [
    {
     "data": {
      "image/png": "[encoded data removed]",
      "text/plain": [
       "<Figure size 720x504 with 1 Axes>"
      ]
     },
     "metadata": {
      "needs_background": "light"
     },
     "output_type": "display_data"
    }
   ],
   "source": [
    "data = dict_[\"Data\"]\n",
    "fig = plt.figure(figsize =(10, 7)) \n",
    "plt.boxplot(data)\n",
    "plt.show()"
   ]
  },
  {
   "cell_type": "markdown",
   "metadata": {},
   "source": [
    "### the centre line represent the median and the spaces on either side of the line is a quantile"
   ]
  },
  {
   "cell_type": "markdown",
   "metadata": {},
   "source": [
    "## Question Four"
   ]
  },
  {
   "cell_type": "code",
   "execution_count": 36,
   "metadata": {},
   "outputs": [
    {
     "data": {
      "text/plain": [
       "{'Mean': 56.65,\n",
       " 'Median': 47.0,\n",
       " 'Variance': 2586.3275000000003,\n",
       " 'Standard Deviation': 50.85594852128904,\n",
       " 'Maximum': 270,\n",
       " 'Minimum': 23}"
      ]
     },
     "execution_count": 36,
     "metadata": {},
     "output_type": "execute_result"
    }
   ],
   "source": [
    "data[15] = 270\n",
    "mean_2 = np.mean(data)\n",
    "median_2 = np.median(data)\n",
    "var_2 = np.var(data)\n",
    "std_2 = np.std(data)\n",
    "max_2 = np.max(data)\n",
    "min_2 = np.min(data)\n",
    "\n",
    "dic = {}\n",
    "dict_[\"Data\"] = data\n",
    "dic[\"Mean\"] = mean_2\n",
    "dic[\"Median\"] = median_2\n",
    "dic[\"Variance\"] = var_2\n",
    "dic[\"Standard Deviation\"] = std_2\n",
    "dic[\"Maximum\"] = max_2\n",
    "dic[\"Minimum\"] = min_2\n",
    "dic"
   ]
  },
  {
   "cell_type": "code",
   "execution_count": 37,
   "metadata": {},
   "outputs": [
    {
     "data": {
      "image/png": "[encoded data removed]",
      "text/plain": [
       "<Figure size 720x504 with 1 Axes>"
      ]
     },
     "metadata": {
      "needs_background": "light"
     },
     "output_type": "display_data"
    }
   ],
   "source": [
    "fig = plt.figure(figsize =(10, 7)) \n",
    "plt.boxplot(data)\n",
    "plt.show()"
   ]
  }
 ],
 "metadata": {
  "kernelspec": {
   "display_name": "Python 3",
   "language": "python",
   "name": "python3"
  },
  "language_info": {
   "codemirror_mode": {
    "name": "ipython",
    "version": 3
   },
   "file_extension": ".py",
   "mimetype": "text/x-python",
   "name": "python",
   "nbconvert_exporter": "python",
   "pygments_lexer": "ipython3",
   "version": "3.7.4"
  }
 },
 "nbformat": 4,
 "nbformat_minor": 2
}
